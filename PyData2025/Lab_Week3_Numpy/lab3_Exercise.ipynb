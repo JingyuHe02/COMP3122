{
  "cells": [
    {
      "cell_type": "markdown",
      "metadata": {
        "id": "vY8tNrjspTwa"
      },
      "source": [
        "# Lab exercise, week 3 - numpy & matplotlib basics\n",
        "\n",
        "Contents:\n",
        "- Overview of numpy arrays\n",
        "- Exercises for numpy\n",
        "- Exercises for plotting"
      ]
    },
    {
      "cell_type": "markdown",
      "metadata": {
        "id": "_GP9Qkg1pTwb"
      },
      "source": [
        "## NumPy - overview\n",
        "\n",
        "Python lists are somewhat weird creatures. In contrast to basic array types in other languages like C# and Java, they can hold objects of different types and new elements can be inserted in the middle. NumPy arrays are much more like C# arrays - all elements have the same type."
      ]
    },
    {
      "cell_type": "code",
      "execution_count": 1,
      "metadata": {
        "id": "KEG4YDfvpTwc"
      },
      "outputs": [],
      "source": [
        "# by convention numpy is always imported as np\n",
        "import numpy as np"
      ]
    },
    {
      "cell_type": "markdown",
      "metadata": {
        "id": "TqmtfTf2pTwd"
      },
      "source": [
        "### Common ways of creating numpy arrays"
      ]
    },
    {
      "cell_type": "code",
      "execution_count": null,
      "metadata": {
        "id": "DftNLPuLpTwd",
        "outputId": "6889b644-6a13-4778-f573-1c71a831ea29"
      },
      "outputs": [
        {
          "data": {
            "text/plain": [
              "array([ 5,  2, 17])"
            ]
          },
          "execution_count": 2,
          "metadata": {},
          "output_type": "execute_result"
        }
      ],
      "source": [
        "a = np.array([5, 2, 17])  # Convert a Python list into a numpy array\n",
        "a"
      ]
    },
    {
      "cell_type": "code",
      "execution_count": null,
      "metadata": {
        "id": "JZ4mEgs_pTwe",
        "outputId": "3ec2133d-1724-4c88-d5f4-0dc585e73811"
      },
      "outputs": [
        {
          "data": {
            "text/plain": [
              "array([[5, 7, 2],\n",
              "       [9, 4, 1]])"
            ]
          },
          "execution_count": 3,
          "metadata": {},
          "output_type": "execute_result"
        }
      ],
      "source": [
        "# List of lists gets converted into a 2D array\n",
        "np.array([[5, 7, 2],\n",
        "          [9, 4, 1]])\n"
      ]
    },
    {
      "cell_type": "code",
      "execution_count": null,
      "metadata": {
        "id": "0lbwZ2E5pTwe",
        "outputId": "3980578e-b149-4823-e522-2bc8dd2ca2a9"
      },
      "outputs": [
        {
          "data": {
            "text/plain": [
              "array([0, 1, 2, 3, 4])"
            ]
          },
          "execution_count": 6,
          "metadata": {},
          "output_type": "execute_result"
        }
      ],
      "source": [
        "np.arange(5)  # Same as Python's range() but creates a numpy array"
      ]
    },
    {
      "cell_type": "code",
      "execution_count": null,
      "metadata": {
        "id": "wb-KJsU3pTwe",
        "outputId": "5c26f025-7c79-4b0a-9bde-38d0da762d6e"
      },
      "outputs": [
        {
          "data": {
            "text/plain": [
              "array([0., 0., 0., 0., 0.])"
            ]
          },
          "execution_count": 7,
          "metadata": {},
          "output_type": "execute_result"
        }
      ],
      "source": [
        "np.zeros(5)  # Create a numpy array with five elements, all set to zero"
      ]
    },
    {
      "cell_type": "code",
      "execution_count": null,
      "metadata": {
        "id": "Z11TDJaipTwe",
        "outputId": "34bafea2-77ee-46ad-a8bc-257b6f8a8b81"
      },
      "outputs": [
        {
          "data": {
            "text/plain": [
              "array([1., 1., 1., 1., 1., 1., 1.])"
            ]
          },
          "execution_count": 8,
          "metadata": {},
          "output_type": "execute_result"
        }
      ],
      "source": [
        "c = np.ones(7)  # Create a numpy array with five elements, all set to 1\n",
        "c\n"
      ]
    },
    {
      "cell_type": "code",
      "execution_count": null,
      "metadata": {
        "id": "f-jPYkyTpTwe",
        "outputId": "8c2311e2-1ea2-4dd1-91de-2a4d082590f5"
      },
      "outputs": [
        {
          "data": {
            "text/plain": [
              "array([0.14654318, 0.24300736, 0.74564537, 0.58652819, 0.39433085,\n",
              "       0.94389319])"
            ]
          },
          "execution_count": 9,
          "metadata": {},
          "output_type": "execute_result"
        }
      ],
      "source": [
        "# Array of 6 random numbers between 0 and 1\n",
        "np.random.rand(6)"
      ]
    },
    {
      "cell_type": "code",
      "execution_count": null,
      "metadata": {
        "id": "8G-wXKUapTwf",
        "outputId": "3ccc7c56-642a-4d9f-9e13-1246e816258b"
      },
      "outputs": [
        {
          "data": {
            "text/plain": [
              "array([64, 97,  1, 69, 74, 72])"
            ]
          },
          "execution_count": 10,
          "metadata": {},
          "output_type": "execute_result"
        }
      ],
      "source": [
        "# array with 6 random integers between 0 and 100 (not including 100 as usual)\n",
        "np.random.randint(100, size=6)"
      ]
    },
    {
      "cell_type": "markdown",
      "metadata": {
        "id": "18uJwmtXpTwf"
      },
      "source": [
        "### Array properties"
      ]
    },
    {
      "cell_type": "code",
      "execution_count": null,
      "metadata": {
        "id": "qXmEJXKKpTwf",
        "outputId": "75a2062c-f3fb-43b5-a09c-53e039ebe428"
      },
      "outputs": [
        {
          "data": {
            "text/plain": [
              "array([[5, 7, 2],\n",
              "       [9, 4, 1]])"
            ]
          },
          "execution_count": 11,
          "metadata": {},
          "output_type": "execute_result"
        }
      ],
      "source": [
        "b = np.array([[5, 7, 2],\n",
        "              [9, 4, 1]])\n",
        "b"
      ]
    },
    {
      "cell_type": "code",
      "execution_count": null,
      "metadata": {
        "id": "B1DsfOI6pTwf",
        "outputId": "3cfd29c8-9a50-4710-bf0b-9990144c1bba"
      },
      "outputs": [
        {
          "data": {
            "text/plain": [
              "dtype('int64')"
            ]
          },
          "execution_count": 12,
          "metadata": {},
          "output_type": "execute_result"
        }
      ],
      "source": [
        "# Data type of the array\n",
        "a.dtype"
      ]
    },
    {
      "cell_type": "code",
      "execution_count": null,
      "metadata": {
        "id": "8EXUiyuupTwf",
        "outputId": "2daa8436-5133-4ebf-ce14-a1ced67cebd8"
      },
      "outputs": [
        {
          "data": {
            "text/plain": [
              "2"
            ]
          },
          "execution_count": 13,
          "metadata": {},
          "output_type": "execute_result"
        }
      ],
      "source": [
        "# number of dimensions\n",
        "b.ndim"
      ]
    },
    {
      "cell_type": "code",
      "execution_count": null,
      "metadata": {
        "id": "rN6Q6oPZpTwf",
        "outputId": "30c7abb0-579f-4360-d232-b132d4fd2397"
      },
      "outputs": [
        {
          "data": {
            "text/plain": [
              "(2, 3)"
            ]
          },
          "execution_count": 14,
          "metadata": {},
          "output_type": "execute_result"
        }
      ],
      "source": [
        "# array shape is a Python tuple, in this case it's (2, 3) because b is a 2 by 3 array.\n",
        "b.shape"
      ]
    },
    {
      "cell_type": "code",
      "execution_count": null,
      "metadata": {
        "id": "_pO03lHRpTwg",
        "outputId": "9d6eab45-7ef4-4ec5-c7c3-54a6b52f2fc3"
      },
      "outputs": [
        {
          "data": {
            "text/plain": [
              "6"
            ]
          },
          "execution_count": 15,
          "metadata": {},
          "output_type": "execute_result"
        }
      ],
      "source": [
        "# The total number of elements\n",
        "b.size"
      ]
    },
    {
      "cell_type": "code",
      "execution_count": null,
      "metadata": {
        "id": "HSG8xzXlpTwg",
        "outputId": "9dca00ee-57c8-467c-ff89-7ce50b3bc646"
      },
      "outputs": [
        {
          "data": {
            "text/plain": [
              "dtype('float64')"
            ]
          },
          "execution_count": 16,
          "metadata": {},
          "output_type": "execute_result"
        }
      ],
      "source": [
        "# Note that zeros byt default uses the float64 data type\n",
        "z = np.zeros(7)\n",
        "z.dtype"
      ]
    },
    {
      "cell_type": "code",
      "execution_count": null,
      "metadata": {
        "id": "7F7RdTgWpTwg",
        "outputId": "7ff82b5a-ed66-4a07-ef8e-1a2aadf64339"
      },
      "outputs": [
        {
          "data": {
            "text/plain": [
              "dtype('int8')"
            ]
          },
          "execution_count": 17,
          "metadata": {},
          "output_type": "execute_result"
        }
      ],
      "source": [
        "# But data type can be set explicitly, almost all numpy functions that create arrays take an optional dtype parameter\n",
        "# Let's set it to an 8 bit integer\n",
        "z = np.zeros(7, dtype=np.int8)\n",
        "z.dtype"
      ]
    },
    {
      "cell_type": "markdown",
      "metadata": {
        "id": "xEq6LgK2pTwg"
      },
      "source": [
        "## Exercises\n",
        "\n",
        "Read section 2.2 of the book (The Basics of NumPy Arrays) and complete the tasks below.\n"
      ]
    },
    {
      "cell_type": "markdown",
      "metadata": {
        "id": "FZPPbIl_pTwg"
      },
      "source": [
        "### Numpy Array Creation"
      ]
    },
    {
      "cell_type": "markdown",
      "metadata": {
        "id": "Js7jz8NgpTwg"
      },
      "source": [
        "##### Convert a list into a numpy array"
      ]
    },
    {
      "cell_type": "code",
      "execution_count": null,
      "metadata": {
        "id": "VhfwMpjRpTwg",
        "outputId": "7bbea34c-7b2f-4564-8d69-a48b2f70b406"
      },
      "outputs": [
        {
          "data": {
            "text/plain": [
              "[5, 3, 8, 4]"
            ]
          },
          "execution_count": 113,
          "metadata": {},
          "output_type": "execute_result"
        }
      ],
      "source": [
        "lst = [5, 3, 8, 4]\n",
        "lst"
      ]
    },
    {
      "cell_type": "code",
      "execution_count": null,
      "metadata": {
        "id": "DF9TFwbqpTwg"
      },
      "outputs": [],
      "source": [
        "# your code here\n",
        "x =\n",
        "x"
      ]
    },
    {
      "cell_type": "markdown",
      "metadata": {
        "id": "5sdxlpKspTwg"
      },
      "source": [
        "#### What happens when you multiply a list by 3, what a about an array multiplied by 3?"
      ]
    },
    {
      "cell_type": "code",
      "execution_count": null,
      "metadata": {
        "id": "Guns163zpTwg"
      },
      "outputs": [],
      "source": [
        "# Feel free to add more cells\n"
      ]
    },
    {
      "cell_type": "markdown",
      "metadata": {
        "id": "fRBbKtfspTwg"
      },
      "source": [
        "#### Create an array of 10 ones [1, 1, 1, ... ]"
      ]
    },
    {
      "cell_type": "code",
      "execution_count": 2,
      "metadata": {
        "colab": {
          "base_uri": "https://localhost:8080/"
        },
        "id": "rDgC5xWKpTwg",
        "outputId": "708074e7-dec5-4f04-a174-2793f3242075"
      },
      "outputs": [
        {
          "output_type": "execute_result",
          "data": {
            "text/plain": [
              "array([1., 1., 1., 1., 1., 1., 1., 1., 1., 1.])"
            ]
          },
          "metadata": {},
          "execution_count": 2
        }
      ],
      "source": [
        "np.ones(10)"
      ]
    },
    {
      "cell_type": "markdown",
      "metadata": {
        "id": "szWublqSpTwg"
      },
      "source": [
        "#### Create an array of 10 fives [5, 5, 5, .... ]"
      ]
    },
    {
      "cell_type": "code",
      "execution_count": 3,
      "metadata": {
        "colab": {
          "base_uri": "https://localhost:8080/"
        },
        "id": "dfhb5EwWpTwg",
        "outputId": "626b993c-d9a4-4fe0-b512-161d3e0c25dd"
      },
      "outputs": [
        {
          "output_type": "execute_result",
          "data": {
            "text/plain": [
              "array([5., 5., 5., 5., 5., 5., 5., 5., 5., 5.])"
            ]
          },
          "metadata": {},
          "execution_count": 3
        }
      ],
      "source": [
        "np.ones(10) * 5"
      ]
    },
    {
      "cell_type": "markdown",
      "metadata": {
        "id": "EGRruPFCpTwg"
      },
      "source": [
        "#### Create an array of the integers from 10 to 50 (including 50)"
      ]
    },
    {
      "cell_type": "code",
      "execution_count": 4,
      "metadata": {
        "colab": {
          "base_uri": "https://localhost:8080/"
        },
        "id": "bCNpXKOkpTwg",
        "outputId": "5aa654a6-88a7-43ec-97c8-debdfd10cf94"
      },
      "outputs": [
        {
          "output_type": "execute_result",
          "data": {
            "text/plain": [
              "array([10, 11, 12, 13, 14, 15, 16, 17, 18, 19, 20, 21, 22, 23, 24, 25, 26,\n",
              "       27, 28, 29, 30, 31, 32, 33, 34, 35, 36, 37, 38, 39, 40, 41, 42, 43,\n",
              "       44, 45, 46, 47, 48, 49, 50])"
            ]
          },
          "metadata": {},
          "execution_count": 4
        }
      ],
      "source": [
        "np.arange(10, 51)"
      ]
    },
    {
      "cell_type": "markdown",
      "metadata": {
        "id": "3xpLm7C1pTwg"
      },
      "source": [
        "#### Create an array of 10 random numbers between 0 and 5"
      ]
    },
    {
      "cell_type": "code",
      "execution_count": null,
      "metadata": {
        "id": "37Gb0_jvpTwg"
      },
      "outputs": [],
      "source": []
    },
    {
      "cell_type": "markdown",
      "metadata": {
        "id": "smcAsOpvpTwg"
      },
      "source": [
        "#### Read the help for np.linspace function and create an array of 11 evenly spaced elements between 0 and 2\n",
        "use `np.linspace?` or `?np.linspace` to show the help"
      ]
    },
    {
      "cell_type": "code",
      "execution_count": 5,
      "metadata": {
        "colab": {
          "base_uri": "https://localhost:8080/"
        },
        "id": "JiKnTKK-pTwh",
        "outputId": "8fe7cb20-dfe6-4e43-ac37-c6f602df3461"
      },
      "outputs": [
        {
          "output_type": "execute_result",
          "data": {
            "text/plain": [
              "array([0. , 0.2, 0.4, 0.6, 0.8, 1. , 1.2, 1.4, 1.6, 1.8, 2. ])"
            ]
          },
          "metadata": {},
          "execution_count": 5
        }
      ],
      "source": [
        "np.linspace(0, 2, 11)"
      ]
    },
    {
      "cell_type": "markdown",
      "metadata": {
        "id": "EcCbD6V6pTwh"
      },
      "source": [
        "#### Create a 3 by 4 array of ones"
      ]
    },
    {
      "cell_type": "code",
      "execution_count": 7,
      "metadata": {
        "colab": {
          "base_uri": "https://localhost:8080/"
        },
        "id": "SlzY2CVppTwh",
        "outputId": "19260122-496a-4856-9d36-b0398904bc8e"
      },
      "outputs": [
        {
          "output_type": "execute_result",
          "data": {
            "text/plain": [
              "array([[1., 1., 1., 1.],\n",
              "       [1., 1., 1., 1.],\n",
              "       [1., 1., 1., 1.]])"
            ]
          },
          "metadata": {},
          "execution_count": 7
        }
      ],
      "source": [
        "np.ones((3, 4))"
      ]
    },
    {
      "cell_type": "markdown",
      "metadata": {
        "id": "NLSzTChrpTwh"
      },
      "source": [
        "#### Create a 3 by 4 array of fives"
      ]
    },
    {
      "cell_type": "code",
      "execution_count": 6,
      "metadata": {
        "colab": {
          "base_uri": "https://localhost:8080/"
        },
        "id": "PP6ASdXopTwl",
        "outputId": "3acc60ce-debe-450b-eb8f-91aafd15da35"
      },
      "outputs": [
        {
          "output_type": "execute_result",
          "data": {
            "text/plain": [
              "array([[5., 5., 5., 5.],\n",
              "       [5., 5., 5., 5.],\n",
              "       [5., 5., 5., 5.]])"
            ]
          },
          "metadata": {},
          "execution_count": 6
        }
      ],
      "source": [
        "np.ones((3, 4)) * 5"
      ]
    },
    {
      "cell_type": "markdown",
      "metadata": {
        "id": "ugNzGdbSpTwl"
      },
      "source": [
        "### Array Indexing\n",
        "Using the following arrays `a` and `m` for the questions below"
      ]
    },
    {
      "cell_type": "code",
      "execution_count": null,
      "metadata": {
        "id": "1kxH6kbBpTwl",
        "outputId": "da0ed428-9b7d-4b96-851f-f6b66338fedf"
      },
      "outputs": [
        {
          "data": {
            "text/plain": [
              "array([10, 11, 12, 13, 14, 15, 16, 17, 18, 19, 20])"
            ]
          },
          "execution_count": 4,
          "metadata": {},
          "output_type": "execute_result"
        }
      ],
      "source": [
        "a = np.arange(10,21)\n",
        "a"
      ]
    },
    {
      "cell_type": "code",
      "execution_count": null,
      "metadata": {
        "id": "FPK5ZiljpTwl",
        "outputId": "79d77926-9cd3-4701-9b11-584156999635"
      },
      "outputs": [
        {
          "data": {
            "text/plain": [
              "array([[ 1,  2,  3,  4,  5,  6,  7],\n",
              "       [ 8,  9, 10, 11, 12, 13, 14],\n",
              "       [15, 16, 17, 18, 19, 20, 21]])"
            ]
          },
          "execution_count": 20,
          "metadata": {},
          "output_type": "execute_result"
        }
      ],
      "source": [
        "m = np.arange(1,22).reshape((3,7))\n",
        "m"
      ]
    },
    {
      "cell_type": "markdown",
      "metadata": {
        "id": "7Pup1dGKpTwl"
      },
      "source": [
        "### Create an array containing...\n",
        "#### the first 4 elements of a"
      ]
    },
    {
      "cell_type": "code",
      "execution_count": null,
      "metadata": {
        "id": "yhBBOKd3pTwl",
        "outputId": "9c69312b-f5df-4e6c-d3f9-391f2553c2c9"
      },
      "outputs": [
        {
          "data": {
            "text/plain": [
              "array([10, 11, 12, 13])"
            ]
          },
          "execution_count": 125,
          "metadata": {},
          "output_type": "execute_result"
        }
      ],
      "source": [
        "a[:4]"
      ]
    },
    {
      "cell_type": "markdown",
      "metadata": {
        "id": "pW5WIk99pTwl"
      },
      "source": [
        "#### the last 3 elements of a"
      ]
    },
    {
      "cell_type": "code",
      "execution_count": null,
      "metadata": {
        "id": "S8nEvZJ6pTwl"
      },
      "outputs": [],
      "source": [
        "a[-3:]"
      ]
    },
    {
      "cell_type": "markdown",
      "metadata": {
        "id": "05M9t1P1pTwm"
      },
      "source": [
        "#### The middle elements of a from 15 to 18 inclusive"
      ]
    },
    {
      "cell_type": "code",
      "execution_count": null,
      "metadata": {
        "id": "Mt9laFjbpTwm"
      },
      "outputs": [],
      "source": [
        "a[(a >= 15) & (a <= 18)]"
      ]
    },
    {
      "cell_type": "markdown",
      "metadata": {
        "id": "LE8zbLMdpTwm"
      },
      "source": [
        "#### The first column of m"
      ]
    },
    {
      "cell_type": "code",
      "execution_count": null,
      "metadata": {
        "id": "8QYkdp6tpTwm"
      },
      "outputs": [],
      "source": [
        "m[:, 0]"
      ]
    },
    {
      "cell_type": "markdown",
      "metadata": {
        "id": "3NCndtiwpTwm"
      },
      "source": [
        "#### The middle row of m"
      ]
    },
    {
      "cell_type": "code",
      "execution_count": null,
      "metadata": {
        "id": "L-qURBlwpTwm"
      },
      "outputs": [],
      "source": [
        "m[1,:]"
      ]
    },
    {
      "cell_type": "markdown",
      "metadata": {
        "id": "sJMtbTs1pTwm"
      },
      "source": [
        "#### The left 3 columns of m"
      ]
    },
    {
      "cell_type": "code",
      "execution_count": null,
      "metadata": {
        "id": "HGY_A_dZpTwm",
        "outputId": "6f19f6e2-548c-4329-bfba-1e6880d02050"
      },
      "outputs": [
        {
          "data": {
            "text/plain": [
              "array([[ 1,  2,  3],\n",
              "       [ 8,  9, 10],\n",
              "       [15, 16, 17]])"
            ]
          },
          "execution_count": 130,
          "metadata": {},
          "output_type": "execute_result"
        }
      ],
      "source": [
        "m[:,-3:]"
      ]
    },
    {
      "cell_type": "markdown",
      "metadata": {
        "id": "4dIQ0f4HpTwm"
      },
      "source": [
        "#### The bottom-right 2 by 2 square"
      ]
    },
    {
      "cell_type": "code",
      "execution_count": null,
      "metadata": {
        "id": "X1bxXuC6pTwm",
        "outputId": "b00d8e3e-6c1d-46a2-8290-781678d4be86"
      },
      "outputs": [
        {
          "data": {
            "text/plain": [
              "array([[13, 14],\n",
              "       [20, 21]])"
            ]
          },
          "execution_count": 131,
          "metadata": {},
          "output_type": "execute_result"
        }
      ],
      "source": [
        "m[1:,-2]"
      ]
    },
    {
      "cell_type": "markdown",
      "metadata": {
        "id": "Qq21-n6GpTwm"
      },
      "source": [
        "#### Print every other element of a\n",
        "Hint: use slicing with a step (`array[start:stop:step]`)"
      ]
    },
    {
      "cell_type": "code",
      "execution_count": null,
      "metadata": {
        "id": "Fmfa1O0JpTwm",
        "outputId": "9a5244e3-5e59-4a69-a29e-82c0ef06ac74"
      },
      "outputs": [
        {
          "data": {
            "text/plain": [
              "array([10, 12, 14, 16, 18, 20])"
            ]
          },
          "execution_count": 132,
          "metadata": {},
          "output_type": "execute_result"
        }
      ],
      "source": [
        "a[::2]"
      ]
    },
    {
      "cell_type": "markdown",
      "metadata": {
        "id": "FpF4iu85pTwm"
      },
      "source": [
        "#### Print the `even` elements of a\n",
        "Hint: use boolean indexing"
      ]
    },
    {
      "cell_type": "markdown",
      "metadata": {
        "id": "9cPm--j2pTwm"
      },
      "source": [
        "### Array Math"
      ]
    },
    {
      "cell_type": "markdown",
      "metadata": {
        "id": "yIwFA588pTwn"
      },
      "source": [
        "#### Subtract 5 from each element of a"
      ]
    },
    {
      "cell_type": "markdown",
      "metadata": {
        "id": "B5d_q8FfpTwn"
      },
      "source": [
        "#### Calculate the `sum` of all the elements in a"
      ]
    },
    {
      "cell_type": "code",
      "execution_count": null,
      "metadata": {
        "id": "FgyDi-h4pTwn",
        "outputId": "cadadba5-e836-453e-ecab-763eb9281855"
      },
      "outputs": [
        {
          "data": {
            "text/plain": [
              "array([ 5,  6,  7,  8,  9, 10, 11, 12, 13, 14, 15])"
            ]
          },
          "execution_count": 134,
          "metadata": {},
          "output_type": "execute_result"
        }
      ],
      "source": [
        "a = np.arange(10,21)\n"
      ]
    },
    {
      "cell_type": "code",
      "execution_count": null,
      "metadata": {
        "id": "ip294ZGppTwn"
      },
      "outputs": [],
      "source": [
        "display(a - 5)"
      ]
    },
    {
      "cell_type": "markdown",
      "metadata": {
        "id": "Fp-uGxvLpTwn"
      },
      "source": [
        "#### Calculate the sum of each column and each row in `m`\n",
        "Hint: use the `axis` argument of the `sum` method"
      ]
    },
    {
      "cell_type": "markdown",
      "metadata": {
        "id": "7RVRJV0ZpTwn"
      },
      "source": [
        "#### Create an array containing squares of all numbers from 1 to 10 (inclusive)"
      ]
    },
    {
      "cell_type": "code",
      "execution_count": null,
      "metadata": {
        "id": "e2Pk3BwQpTwn"
      },
      "outputs": [],
      "source": [
        "display(np.arange(1, 11)**2)"
      ]
    },
    {
      "cell_type": "markdown",
      "metadata": {
        "id": "PEZL6JxDpTwn"
      },
      "source": [
        "#### Create an array containing all powers of 2 from $2^0$ to $2^{10}$ (inclusive)"
      ]
    },
    {
      "cell_type": "code",
      "execution_count": null,
      "metadata": {
        "id": "JNWU6CFhpTwn"
      },
      "outputs": [],
      "source": [
        "display(2**np.arange(11))"
      ]
    },
    {
      "cell_type": "markdown",
      "metadata": {
        "id": "tMBfVmM1pTwn"
      },
      "source": [
        "#### Same as above (powers of two), but subtract one from each element, that is $a_k = 2^k - 1$"
      ]
    },
    {
      "cell_type": "code",
      "execution_count": null,
      "metadata": {
        "id": "mFGsn5dcpTwn"
      },
      "outputs": [],
      "source": [
        "display(2**np.arange(11) - 1)"
      ]
    },
    {
      "cell_type": "markdown",
      "metadata": {
        "id": "CnDMFpd9pTwn"
      },
      "source": [
        "## Plotting Basics\n",
        " - Use [this tutorial](https://matplotlib.org/users/pyplot_tutorial.html) as reference when (if) you get stuck\n",
        " - Execute the cells with imports, otherwise you won't have numpy and matplotlib imported and Python will complain"
      ]
    },
    {
      "cell_type": "code",
      "execution_count": null,
      "metadata": {
        "id": "9-Wr93SwpTwn"
      },
      "outputs": [],
      "source": [
        "import numpy as np\n",
        "import matplotlib.pyplot as plt"
      ]
    },
    {
      "cell_type": "code",
      "execution_count": null,
      "metadata": {
        "id": "r05zfGDLpTwn"
      },
      "outputs": [],
      "source": [
        "# Load weather data (take a look at that CSV file on GitHub or via Excel and note column names)\n",
        "weather = np.loadtxt(\"OshawaWeather2016.csv\", skiprows=1, delimiter=',')"
      ]
    },
    {
      "cell_type": "code",
      "execution_count": null,
      "metadata": {
        "id": "VBUNqFGSpTwn",
        "outputId": "7b66ada6-b944-4bb8-ad8a-30c280bc5611"
      },
      "outputs": [
        {
          "data": {
            "text/plain": [
              "(349, 5)"
            ]
          },
          "execution_count": 6,
          "metadata": {},
          "output_type": "execute_result"
        }
      ],
      "source": [
        "weather.shape"
      ]
    },
    {
      "cell_type": "code",
      "execution_count": null,
      "metadata": {
        "id": "P_mhrLpKpTwo",
        "outputId": "fc61bca4-1c1c-4b26-9015-8ad8226ce092"
      },
      "outputs": [
        {
          "data": {
            "text/plain": [
              "dtype('float64')"
            ]
          },
          "execution_count": 7,
          "metadata": {},
          "output_type": "execute_result"
        }
      ],
      "source": [
        "weather.dtype"
      ]
    },
    {
      "cell_type": "markdown",
      "metadata": {
        "id": "__Tsh-SepTwo"
      },
      "source": [
        "#### Crate separate 1D arrays for each column (e.g: day, maxt, mint and so on)"
      ]
    },
    {
      "cell_type": "code",
      "execution_count": null,
      "metadata": {
        "id": "nJcjaC2opTwo"
      },
      "outputs": [],
      "source": [
        "# your code here\n",
        "# column name in csv file: Day,Max Temp (°C),Min Temp (°C),Mean Temp (°C),Total Precip (mm)\n",
        "# day = weather[???]\n",
        "day = weather[:, 0]\n",
        "maxt = weather[:, 1]\n",
        "mint = weather[:, 2]\n",
        "meant = weather[:, 3]\n",
        "precip = weather[:, 4]\n"
      ]
    },
    {
      "cell_type": "markdown",
      "metadata": {
        "id": "9LbnrR69pTwo"
      },
      "source": [
        "#### Plot the minimum temperature as a function of day number"
      ]
    },
    {
      "cell_type": "markdown",
      "source": [],
      "metadata": {
        "id": "yZKbvylssPDQ"
      }
    },
    {
      "cell_type": "code",
      "execution_count": 9,
      "metadata": {
        "id": "KWpRb1n-pTwo"
      },
      "outputs": [],
      "source": [
        "plt.plot(day, mint)\n",
        "plt.xlabel(\"Day\")\n",
        "plt.ylabel(\"Minimum Temperature (°C)\")\n",
        "plt.title(\"Minimum Temperature as a Function of Day Number\")\n",
        "plt.show()"
      ]
    },
    {
      "cell_type": "markdown",
      "metadata": {
        "id": "wUXIMTnHpTwo"
      },
      "source": [
        "#### Plot the max temperature in degrees Fahrenheit"
      ]
    },
    {
      "cell_type": "code",
      "execution_count": 11,
      "metadata": {
        "colab": {
          "base_uri": "https://localhost:8080/",
          "height": 219
        },
        "id": "Zg2Lv_ZapTwo",
        "outputId": "ca2121df-43ae-49de-8d6e-2682cabb81b2"
      },
      "outputs": [
        {
          "output_type": "error",
          "ename": "NameError",
          "evalue": "name 'plt' is not defined",
          "traceback": [
            "\u001b[0;31m---------------------------------------------------------------------------\u001b[0m",
            "\u001b[0;31mNameError\u001b[0m                                 Traceback (most recent call last)",
            "\u001b[0;32m/tmp/ipython-input-1359149531.py\u001b[0m in \u001b[0;36m<cell line: 0>\u001b[0;34m()\u001b[0m\n\u001b[1;32m      3\u001b[0m \u001b[0mmaxt\u001b[0m \u001b[0;34m=\u001b[0m \u001b[0mweather\u001b[0m\u001b[0;34m[\u001b[0m\u001b[0;34m:\u001b[0m\u001b[0;34m,\u001b[0m \u001b[0;36m1\u001b[0m\u001b[0;34m]\u001b[0m\u001b[0;34m\u001b[0m\u001b[0;34m\u001b[0m\u001b[0m\n\u001b[1;32m      4\u001b[0m \u001b[0mmaxt_f\u001b[0m \u001b[0;34m=\u001b[0m \u001b[0;34m(\u001b[0m\u001b[0mmaxt\u001b[0m \u001b[0;34m*\u001b[0m \u001b[0;36m9\u001b[0m\u001b[0;34m/\u001b[0m\u001b[0;36m5\u001b[0m\u001b[0;34m)\u001b[0m \u001b[0;34m+\u001b[0m \u001b[0;36m32\u001b[0m\u001b[0;34m\u001b[0m\u001b[0;34m\u001b[0m\u001b[0m\n\u001b[0;32m----> 5\u001b[0;31m \u001b[0mplt\u001b[0m\u001b[0;34m.\u001b[0m\u001b[0mplot\u001b[0m\u001b[0;34m(\u001b[0m\u001b[0mday\u001b[0m\u001b[0;34m,\u001b[0m \u001b[0mmaxt_f\u001b[0m\u001b[0;34m)\u001b[0m\u001b[0;34m\u001b[0m\u001b[0;34m\u001b[0m\u001b[0m\n\u001b[0m\u001b[1;32m      6\u001b[0m \u001b[0mplt\u001b[0m\u001b[0;34m.\u001b[0m\u001b[0mxlabel\u001b[0m\u001b[0;34m(\u001b[0m\u001b[0;34m\"Day\"\u001b[0m\u001b[0;34m)\u001b[0m\u001b[0;34m\u001b[0m\u001b[0;34m\u001b[0m\u001b[0m\n\u001b[1;32m      7\u001b[0m \u001b[0mplt\u001b[0m\u001b[0;34m.\u001b[0m\u001b[0mylabel\u001b[0m\u001b[0;34m(\u001b[0m\u001b[0;34m\"Maximum Temperature (°F)\"\u001b[0m\u001b[0;34m)\u001b[0m\u001b[0;34m\u001b[0m\u001b[0;34m\u001b[0m\u001b[0m\n",
            "\u001b[0;31mNameError\u001b[0m: name 'plt' is not defined"
          ]
        }
      ],
      "source": [
        "weather = np.loadtxt(\"OshawaWeather2016.csv\", skiprows=1, delimiter=',')\n",
        "day = weather[:, 0]\n",
        "maxt = weather[:, 1]\n",
        "maxt_f = (maxt * 9/5) + 32\n",
        "plt.plot(day, maxt_f)\n",
        "plt.xlabel(\"Day\")\n",
        "plt.ylabel(\"Maximum Temperature (°F)\")\n",
        "plt.title(\"Maximum Temperature in Fahrenheit as a Function of Day Number\")\n",
        "plt.show()"
      ]
    },
    {
      "cell_type": "code",
      "metadata": {
        "colab": {
          "base_uri": "https://localhost:8080/",
          "height": 401
        },
        "id": "dc30d2ee",
        "outputId": "bec6b8c8-755b-4d77-ac14-940428929388"
      },
      "source": [
        "import numpy as np\n",
        "import matplotlib.pyplot as plt\n",
        "\n",
        "weather = np.loadtxt(\"OshawaWeather2016.csv\", skiprows=1, delimiter=',')\n",
        "day = weather[:, 0]\n",
        "maxt = weather[:, 1]\n",
        "mint = weather[:, 2]\n",
        "\n",
        "temp_diff = maxt - mint\n",
        "\n",
        "plt.plot(day, temp_diff)\n",
        "plt.xlabel(\"Day\")\n",
        "plt.ylabel(\"Temperature Difference (°C)\")\n",
        "plt.title(\"Difference Between Maximum and Minimum Temperature as a Function of Day Number\")\n",
        "plt.show()"
      ],
      "execution_count": 12,
      "outputs": [
        {
          "output_type": "display_data",
          "data": {
            "text/plain": [
              "<Figure size 640x480 with 1 Axes>"
            ],
            "image/png": "[encoded data removed]"
          },
          "metadata": {}
        }
      ]
    },
    {
      "cell_type": "markdown",
      "metadata": {
        "id": "u_xatu7dpTwo"
      },
      "source": [
        "#### Plot the difference between the maximum and the minimum day temperature as a function of day number"
      ]
    },
    {
      "cell_type": "code",
      "execution_count": null,
      "metadata": {
        "id": "ohi2RwRdpTwo"
      },
      "outputs": [],
      "source": [
        "maxt_f = maxt * 9/5 + 32\n",
        "plt.plot(day, maxt_f)\n",
        "plt.xlabel(\"Day\")\n",
        "plt.ylabel(\"Maximum Temperature (°F)\")\n",
        "plt.title(\"Maximum Temperature as a Function of Day Number (Fahrenheit)\")\n",
        "plt.show()"
      ]
    },
    {
      "cell_type": "markdown",
      "metadata": {
        "id": "6ORQvEOTpTwo"
      },
      "source": [
        "#### Plot both, the minimum and maximum temperature on the same figure"
      ]
    },
    {
      "cell_type": "code",
      "execution_count": null,
      "metadata": {
        "id": "0AFMjvVNpTwo"
      },
      "outputs": [],
      "source": [
        "plt.plot(day, mint, label='Min Temp')\n",
        "plt.plot(day, maxt, label='Max Temp')\n",
        "plt.xlabel(\"Day\")\n",
        "plt.ylabel(\"Temperature (°C)\")\n",
        "plt.title(\"Minimum and Maximum Temperature as a Function of Day Number\")\n",
        "plt.legend()\n",
        "plt.show()"
      ]
    },
    {
      "cell_type": "markdown",
      "metadata": {
        "id": "Dkif_8jYpTwo"
      },
      "source": [
        "#### Add axis labels and a legend to the plot above\n",
        "Use the following functions:\n",
        " - plt.xlabel\n",
        " - plt.ylabel\n",
        " - plt.title\n",
        " - plt.legend"
      ]
    },
    {
      "cell_type": "markdown",
      "metadata": {
        "id": "04ujgMXmpTwo"
      },
      "source": [
        "#### Read about plt.hist() function and plot a histogram of the maximum temperatures"
      ]
    },
    {
      "cell_type": "code",
      "execution_count": null,
      "metadata": {
        "id": "rwRxHZ3bpTwo"
      },
      "outputs": [],
      "source": [
        "plt.hist(maxt)\n",
        "plt.xlabel(\"Maximum Temperature (°C)\")\n",
        "plt.ylabel(\"Frequency\")\n",
        "plt.title(\"Histogram of Maximum Temperatures\")\n",
        "plt.show()"
      ]
    },
    {
      "cell_type": "markdown",
      "metadata": {
        "id": "OUCmgyewpTwo"
      },
      "source": [
        "#### Plot a histogram of the differences between the min and max temperature"
      ]
    },
    {
      "cell_type": "code",
      "execution_count": null,
      "metadata": {
        "id": "nJaNYVxrpTwo"
      },
      "outputs": [],
      "source": [
        "temp_diff = maxt - mint\n",
        "plt.hist(temp_diff)\n",
        "plt.xlabel(\"Temperature Difference (°C)\")\n",
        "plt.ylabel(\"Frequency\")\n",
        "plt.title(\"Histogram of Temperature Differences\")\n",
        "plt.show()"
      ]
    },
    {
      "cell_type": "markdown",
      "metadata": {
        "id": "1XyBqSmQpTwo"
      },
      "source": [
        "#### For each day calculate the average of the 3 temperatures in the data (min max and avg)\n"
      ]
    },
    {
      "cell_type": "code",
      "execution_count": null,
      "metadata": {
        "id": "1O_GVsWEpTwo"
      },
      "outputs": [],
      "source": [
        "avg_temp = (mint + maxt + meant) / 3\n",
        "display(avg_temp)"
      ]
    },
    {
      "cell_type": "markdown",
      "metadata": {
        "id": "3V6Z0bBupTwp"
      },
      "source": [
        "#### Calculate the total amount of precipitation for the whole year\n",
        "Does the number seem reasonable? The annual average precipitation in Toronto is 831 mm according to https://en.wikipedia.org/wiki/Geography_of_Toronto"
      ]
    },
    {
      "cell_type": "code",
      "execution_count": null,
      "metadata": {
        "id": "-AMBEyOWpTwp"
      },
      "outputs": [],
      "source": [
        "total_precip = precip.sum()\n",
        "display(total_precip)"
      ]
    },
    {
      "cell_type": "markdown",
      "metadata": {
        "id": "BKamp0jHpTwp"
      },
      "source": [
        "#### Calculate the total precipitation on all odd numbered days (day 1, 3, 5 and so on)"
      ]
    },
    {
      "cell_type": "code",
      "execution_count": null,
      "metadata": {
        "id": "ATALh9gKpTwp"
      },
      "outputs": [],
      "source": [
        "odd_days_precip = precip[day % 2 != 0].sum()\n",
        "display(odd_days_precip)"
      ]
    }
  ],
  "metadata": {
    "kernelspec": {
      "display_name": ".comp3122",
      "language": "python",
      "name": "python3"
    },
    "language_info": {
      "codemirror_mode": {
        "name": "ipython",
        "version": 3
      },
      "file_extension": ".py",
      "mimetype": "text/x-python",
      "name": "python",
      "nbconvert_exporter": "python",
      "pygments_lexer": "ipython3",
      "version": "3.12.9"
    },
    "colab": {
      "provenance": []
    }
  },
  "nbformat": 4,
  "nbformat_minor": 0
}